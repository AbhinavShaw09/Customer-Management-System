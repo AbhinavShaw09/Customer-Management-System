{
 "cells": [
  {
   "cell_type": "code",
   "execution_count": 7,
   "metadata": {},
   "outputs": [],
   "source": [
    "import os\n",
    "import django\n",
    "os.environ.setdefault(\"DJANGO_SETTINGS_MODULE\", \"core.settings\")\n",
    "os.environ[\"DJANGO_ALLOW_ASYNC_UNSAFE\"] = \"true\"\n",
    "django.setup()\n",
    "from django.utils import timezone"
   ]
  },
  {
   "cell_type": "code",
   "execution_count": 8,
   "metadata": {},
   "outputs": [],
   "source": [
    "from app.models import(\n",
    "    CustomerModel,\n",
    "    OrderModel,\n",
    "    Product,\n",
    "    ProductModel\n",
    ")"
   ]
  },
  {
   "cell_type": "code",
   "execution_count": 9,
   "metadata": {},
   "outputs": [
    {
     "data": {
      "text/plain": [
       "<QuerySet [<CustomerModel: Abhinav Shaw>, <CustomerModel: Animesh Shaw>, <CustomerModel: Shivam Shaw>, <CustomerModel: Josh Shaw>, <CustomerModel: Rakesh Shaw>]>"
      ]
     },
     "execution_count": 9,
     "metadata": {},
     "output_type": "execute_result"
    }
   ],
   "source": [
    "cust1, created = CustomerModel.objects.get_or_create(cus_id = 1,first_name = 'Abhinav',last_name='Shaw',email = 'abhinav12@gmail.com',company = '',address = '')\n",
    "cust2,created = CustomerModel.objects.get_or_create(cus_id = 2,first_name = 'Animesh',last_name='Shaw',email = 'animesh12@gmail.com',company = '',address = '')\n",
    "cust3,created = CustomerModel.objects.get_or_create(cus_id = 3,first_name = 'Shivam',last_name='Shaw',email = 'shivam12@gmail.com',company = '',address = '')\n",
    "cust4,created = CustomerModel.objects.get_or_create(cus_id = 4,first_name = 'Josh',last_name='Shaw',email = 'josh12@gmail.com',company = '',address = '')\n",
    "cust5,created = CustomerModel.objects.get_or_create(cus_id = 5,first_name = 'Rakesh',last_name='Shaw',email = 'rakesh12@gmail.com',company = '',address = '')\n",
    "CustomerModel.objects.all()"
   ]
  },
  {
   "cell_type": "code",
   "execution_count": 10,
   "metadata": {},
   "outputs": [
    {
     "data": {
      "text/plain": [
       "<QuerySet [<OrderModel: 1>, <OrderModel: 2>, <OrderModel: 3>, <OrderModel: 4>, <OrderModel: 5>]>"
      ]
     },
     "execution_count": 10,
     "metadata": {},
     "output_type": "execute_result"
    }
   ],
   "source": [
    "ord1,created = OrderModel.objects.get_or_create(order_id = 1,cust_id = cust1,delivery_due_date = timezone.now(),invoice_creation_da = '',custom_message = '')\n",
    "ord2,created = OrderModel.objects.get_or_create(order_id = 2,cust_id = cust2,delivery_due_date = timezone.now(),invoice_creation_da = '',custom_message = '')\n",
    "ord3,created = OrderModel.objects.get_or_create(order_id = 3,cust_id = cust3,delivery_due_date = timezone.now(),invoice_creation_da = '',custom_message = '')\n",
    "ord4,created = OrderModel.objects.get_or_create(order_id = 4,cust_id = cust4,delivery_due_date = timezone.now(),invoice_creation_da = '',custom_message = '')\n",
    "ord5,created = OrderModel.objects.get_or_create(order_id = 5,cust_id = cust5,delivery_due_date = timezone.now(),invoice_creation_da = '',custom_message = '')\n",
    "OrderModel.objects.all()"
   ]
  },
  {
   "cell_type": "code",
   "execution_count": 11,
   "metadata": {},
   "outputs": [
    {
     "name": "stdout",
     "output_type": "stream",
     "text": [
      "<QuerySet [<Product: name1>, <Product: name2>, <Product: name3>, <Product: name4>, <Product: name5>]>\n"
     ]
    }
   ],
   "source": [
    "prod1,created = Product.objects.get_or_create(product_id = 1,name = 'name1',price = 1000)\n",
    "prod2,created = Product.objects.get_or_create(product_id = 2,name = 'name2',price = 2000)\n",
    "prod3,created = Product.objects.get_or_create(product_id = 3,name = 'name3',price = 3000)\n",
    "prod4,created = Product.objects.get_or_create(product_id = 4,name = 'name4',price = 4000)\n",
    "prod5,created = Product.objects.get_or_create(product_id = 5,name = 'name5',price = 5000)\n",
    "\n",
    "print(Product.objects.all())"
   ]
  },
  {
   "cell_type": "code",
   "execution_count": 13,
   "metadata": {},
   "outputs": [
    {
     "data": {
      "text/plain": [
       "0"
      ]
     },
     "execution_count": 13,
     "metadata": {},
     "output_type": "execute_result"
    }
   ],
   "source": [
    "ProductModel.objects.count()"
   ]
  },
  {
   "cell_type": "code",
   "execution_count": null,
   "metadata": {},
   "outputs": [],
   "source": []
  }
 ],
 "metadata": {
  "kernelspec": {
   "display_name": "Python 3",
   "language": "python",
   "name": "python3"
  },
  "language_info": {
   "codemirror_mode": {
    "name": "ipython",
    "version": 3
   },
   "file_extension": ".py",
   "mimetype": "text/x-python",
   "name": "python",
   "nbconvert_exporter": "python",
   "pygments_lexer": "ipython3",
   "version": "3.8.2"
  },
  "orig_nbformat": 4
 },
 "nbformat": 4,
 "nbformat_minor": 2
}
